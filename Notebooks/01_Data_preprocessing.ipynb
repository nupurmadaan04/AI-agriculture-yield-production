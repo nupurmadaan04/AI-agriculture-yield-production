{
 "cells": [
  {
   "cell_type": "code",
   "execution_count": 1,
   "id": "415d2eaf-ffbc-458b-a4b4-8e565a17ecc2",
   "metadata": {},
   "outputs": [],
   "source": [
    "import pandas as pd\n",
    "import numpy as np\n",
    "import matplotlib.pyplot as plt\n",
    "import seaborn as sns"
   ]
  },
  {
   "cell_type": "markdown",
   "id": "2087ce9b-7d28-49e9-a145-15aed0383c51",
   "metadata": {},
   "source": [
    "## Opening Csv File from local Directory"
   ]
  },
  {
   "cell_type": "code",
   "execution_count": 3,
   "id": "7a46c397-2cbe-4606-988e-497782095092",
   "metadata": {},
   "outputs": [
    {
     "name": "stdout",
     "output_type": "stream",
     "text": [
      "Current Notebook Directory: /Users/manjushwarkhairkar/AI-agriculture-yield-production/Notebooks\n",
      "Files in current directory: ['04_Evaluation_Deployment.ipynb', '03_modelling.ipynb', '02_eda.ipynb', '.ipynb_checkpoints', '01_Data_preprocessing.ipynb', '02_eda_2.ipynb']\n"
     ]
    }
   ],
   "source": [
    "# Load the dataset - using relative path that works on your Mac\n",
    "df = pd.read_csv(r'/Users/lavanyalnair/Desktop/study/GSSOC-25/AI-agriculture-yield-production/Datasets/Crops_data.csv')\n",
    "import os # Optional Step\n",
    "print(\"Current Notebook Directory:\", os.getcwd())\n",
    "print(\"Files in current directory:\", os.listdir())\n"
   ]
  },
  {
   "cell_type": "code",
   "execution_count": 10,
   "id": "63c4d17a-f3bc-4cc2-8813-7b9d233bae7f",
   "metadata": {},
   "outputs": [
    {
     "name": "stdout",
     "output_type": "stream",
     "text": [
      "Done\n"
     ]
    }
   ],
   "source": [
    "df = pd.read_csv('../Datasets/rice_data_outlier_removed.csv')\n",
    "print(\"Done\")"
   ]
  },
  {
   "cell_type": "markdown",
   "id": "d6a5c412-3829-4cd8-9ec2-803d5a8efaf9",
   "metadata": {},
   "source": [
    "## Making of rice_data_outlier_removed.csv"
   ]
  },
  {
   "cell_type": "code",
   "execution_count": null,
   "id": "07f9b7ee-89fa-40da-94ef-0257a52c3087",
   "metadata": {},
   "outputs": [],
   "source": [
    "sns.boxplot(x=df['RICE YIELD (Kg per ha)'])\n",
    "plt.title(\"Boxplot of Rice Yield\")\n",
    "plt.show()"
   ]
  },
  {
   "cell_type": "code",
   "execution_count": null,
   "id": "6ac92b72-506d-4872-907f-72ff63fbb08b",
   "metadata": {},
   "outputs": [],
   "source": [
    "q1 = df['RICE YIELD (Kg per ha)'].quantile(0.25)\n",
    "q3 = df['RICE YIELD (Kg per ha)'].quantile(0.75)\n",
    "IQR = q3-q1\n",
    "min_range = q1 - (1.5*IQR)\n",
    "max_range = q3 + (1.5*IQR)\n",
    "new_df = df[(df['RICE YIELD (Kg per ha)']<=max_range) & (df['RICE YIELD (Kg per ha)']>min_range)]"
   ]
  },
  {
   "cell_type": "code",
   "execution_count": null,
   "id": "8ae11980-4d78-4a6a-b11f-e10d1f5bd0f3",
   "metadata": {},
   "outputs": [],
   "source": [
    "sns.boxplot(x=new_df['RICE YIELD (Kg per ha)'])\n",
    "plt.title(\"Updated Boxplot of Rice Yield\")\n",
    "plt.show()"
   ]
  },
  {
   "cell_type": "code",
   "execution_count": null,
   "id": "4c44e7dd-a8b8-4440-b7e3-30027dbbf9f7",
   "metadata": {},
   "outputs": [],
   "source": [
    "# Save the processed rice data using relative path\n",
    "new_df.to_csv(r'C:\\Users\\devin\\AI-agriculture-yield-prediction\\Datasets\\rice_data_outlier_removed.csv', index=False)"
   ]
  },
  {
   "cell_type": "markdown",
   "id": "1ddd0f68-8c93-4646-93ba-d819dfdb5660",
   "metadata": {},
   "source": [
    "## Basic Preprocessing Steps"
   ]
  },
  {
   "cell_type": "markdown",
   "id": "8fc0748e-ea17-4fc5-b9b0-007ec853e7f4",
   "metadata": {},
   "source": [
    "## 1. How big is the data?"
   ]
  },
  {
   "cell_type": "code",
   "execution_count": 9,
   "id": "5c3a8d41-d955-4e6b-a309-5f94b2a69174",
   "metadata": {},
   "outputs": [
    {
     "data": {
      "text/plain": [
       "(2469, 8)"
      ]
     },
     "execution_count": 9,
     "metadata": {},
     "output_type": "execute_result"
    }
   ],
   "source": [
    "df.shape"
   ]
  },
  {
   "cell_type": "markdown",
   "id": "773d30a9-61d9-423b-8656-f1a134f109a0",
   "metadata": {},
   "source": [
    "## 2. How does the data look like?"
   ]
  },
  {
   "cell_type": "code",
   "execution_count": 12,
   "id": "fce50725-5d31-4c16-81bb-092d85cde68f",
   "metadata": {},
   "outputs": [
    {
     "data": {
      "text/html": [
       "<div>\n",
       "<style scoped>\n",
       "    .dataframe tbody tr th:only-of-type {\n",
       "        vertical-align: middle;\n",
       "    }\n",
       "    .dataframe tbody tr th {\n",
       "        vertical-align: top;\n",
       "    }\n",
       "    .dataframe thead th {\n",
       "        text-align: right;\n",
       "    }\n",
       "</style>\n",
       "<table border=\"1\" class=\"dataframe\">\n",
       "  <thead>\n",
       "    <tr style=\"text-align: right;\">\n",
       "      <th></th>\n",
       "      <th>Unnamed: 0</th>\n",
       "      <th>Year</th>\n",
       "      <th>State Name</th>\n",
       "      <th>Dist Name</th>\n",
       "      <th>RICE AREA (1000 ha)</th>\n",
       "      <th>RICE PRODUCTION (1000 tons)</th>\n",
       "      <th>RICE YIELD (Kg per ha)</th>\n",
       "      <th>State_en</th>\n",
       "    </tr>\n",
       "  </thead>\n",
       "  <tbody>\n",
       "    <tr>\n",
       "      <th>610</th>\n",
       "      <td>611</td>\n",
       "      <td>2013</td>\n",
       "      <td>Karnataka</td>\n",
       "      <td>Bidar</td>\n",
       "      <td>3.57</td>\n",
       "      <td>5.54</td>\n",
       "      <td>1551.82</td>\n",
       "      <td>8</td>\n",
       "    </tr>\n",
       "    <tr>\n",
       "      <th>1520</th>\n",
       "      <td>1535</td>\n",
       "      <td>2013</td>\n",
       "      <td>Uttar Pradesh</td>\n",
       "      <td>Budaun</td>\n",
       "      <td>95.23</td>\n",
       "      <td>211.30</td>\n",
       "      <td>2218.83</td>\n",
       "      <td>17</td>\n",
       "    </tr>\n",
       "    <tr>\n",
       "      <th>1552</th>\n",
       "      <td>1567</td>\n",
       "      <td>2013</td>\n",
       "      <td>Uttar Pradesh</td>\n",
       "      <td>Rampur</td>\n",
       "      <td>136.97</td>\n",
       "      <td>306.95</td>\n",
       "      <td>2241.00</td>\n",
       "      <td>17</td>\n",
       "    </tr>\n",
       "  </tbody>\n",
       "</table>\n",
       "</div>"
      ],
      "text/plain": [
       "      Unnamed: 0  Year     State Name Dist Name  RICE AREA (1000 ha)  \\\n",
       "610          611  2013      Karnataka     Bidar                 3.57   \n",
       "1520        1535  2013  Uttar Pradesh    Budaun                95.23   \n",
       "1552        1567  2013  Uttar Pradesh    Rampur               136.97   \n",
       "\n",
       "      RICE PRODUCTION (1000 tons)  RICE YIELD (Kg per ha)  State_en  \n",
       "610                          5.54                 1551.82         8  \n",
       "1520                       211.30                 2218.83        17  \n",
       "1552                       306.95                 2241.00        17  "
      ]
     },
     "execution_count": 12,
     "metadata": {},
     "output_type": "execute_result"
    }
   ],
   "source": [
    "df.sample(3)"
   ]
  },
  {
   "cell_type": "markdown",
   "id": "664f8a84-0790-42f5-971b-03ab1c8dbf11",
   "metadata": {},
   "source": [
    "## 3. What is the data type of cols?"
   ]
  },
  {
   "cell_type": "code",
   "execution_count": 13,
   "id": "a17b647d-9944-40f4-a7c7-b467218d3e5c",
   "metadata": {},
   "outputs": [
    {
     "name": "stdout",
     "output_type": "stream",
     "text": [
      "<class 'pandas.core.frame.DataFrame'>\n",
      "RangeIndex: 2469 entries, 0 to 2468\n",
      "Data columns (total 8 columns):\n",
      " #   Column                       Non-Null Count  Dtype  \n",
      "---  ------                       --------------  -----  \n",
      " 0   Unnamed: 0                   2469 non-null   int64  \n",
      " 1   Year                         2469 non-null   int64  \n",
      " 2   State Name                   2469 non-null   object \n",
      " 3   Dist Name                    2469 non-null   object \n",
      " 4   RICE AREA (1000 ha)          2469 non-null   float64\n",
      " 5   RICE PRODUCTION (1000 tons)  2469 non-null   float64\n",
      " 6   RICE YIELD (Kg per ha)       2469 non-null   float64\n",
      " 7   State_en                     2469 non-null   int64  \n",
      "dtypes: float64(3), int64(3), object(2)\n",
      "memory usage: 154.4+ KB\n"
     ]
    }
   ],
   "source": [
    "df.info()"
   ]
  },
  {
   "cell_type": "markdown",
   "id": "765e7847-78ab-4c48-af6a-6ad2ad8a3af3",
   "metadata": {},
   "source": [
    "## 4. Are there any missing values?"
   ]
  },
  {
   "cell_type": "code",
   "execution_count": 14,
   "id": "2f0469de-abdd-4dc0-abfc-de82056c12b1",
   "metadata": {},
   "outputs": [
    {
     "data": {
      "text/plain": [
       "Unnamed: 0                     0\n",
       "Year                           0\n",
       "State Name                     0\n",
       "Dist Name                      0\n",
       "RICE AREA (1000 ha)            0\n",
       "RICE PRODUCTION (1000 tons)    0\n",
       "RICE YIELD (Kg per ha)         0\n",
       "State_en                       0\n",
       "dtype: int64"
      ]
     },
     "execution_count": 14,
     "metadata": {},
     "output_type": "execute_result"
    }
   ],
   "source": [
    "df.isnull().sum()"
   ]
  },
  {
   "cell_type": "markdown",
   "id": "7f011d98-5c90-498a-acf2-bec0c2843fae",
   "metadata": {},
   "source": [
    "## 5. How does the data look mathematically?"
   ]
  },
  {
   "cell_type": "code",
   "execution_count": 15,
   "id": "d66f6149-0564-4c57-bef0-8d144f30b21e",
   "metadata": {},
   "outputs": [
    {
     "data": {
      "text/html": [
       "<div>\n",
       "<style scoped>\n",
       "    .dataframe tbody tr th:only-of-type {\n",
       "        vertical-align: middle;\n",
       "    }\n",
       "    .dataframe tbody tr th {\n",
       "        vertical-align: top;\n",
       "    }\n",
       "    .dataframe thead th {\n",
       "        text-align: right;\n",
       "    }\n",
       "</style>\n",
       "<table border=\"1\" class=\"dataframe\">\n",
       "  <thead>\n",
       "    <tr style=\"text-align: right;\">\n",
       "      <th></th>\n",
       "      <th>Unnamed: 0</th>\n",
       "      <th>Year</th>\n",
       "      <th>RICE AREA (1000 ha)</th>\n",
       "      <th>RICE PRODUCTION (1000 tons)</th>\n",
       "      <th>RICE YIELD (Kg per ha)</th>\n",
       "      <th>State_en</th>\n",
       "    </tr>\n",
       "  </thead>\n",
       "  <tbody>\n",
       "    <tr>\n",
       "      <th>count</th>\n",
       "      <td>2469.000000</td>\n",
       "      <td>2469.000000</td>\n",
       "      <td>2469.000000</td>\n",
       "      <td>2469.000000</td>\n",
       "      <td>2469.000000</td>\n",
       "      <td>2469.000000</td>\n",
       "    </tr>\n",
       "    <tr>\n",
       "      <th>mean</th>\n",
       "      <td>1244.662211</td>\n",
       "      <td>2013.495342</td>\n",
       "      <td>136.422572</td>\n",
       "      <td>342.785715</td>\n",
       "      <td>2062.814403</td>\n",
       "      <td>10.764682</td>\n",
       "    </tr>\n",
       "    <tr>\n",
       "      <th>std</th>\n",
       "      <td>718.015201</td>\n",
       "      <td>2.294663</td>\n",
       "      <td>166.189858</td>\n",
       "      <td>450.308119</td>\n",
       "      <td>1101.125888</td>\n",
       "      <td>5.403128</td>\n",
       "    </tr>\n",
       "    <tr>\n",
       "      <th>min</th>\n",
       "      <td>0.000000</td>\n",
       "      <td>2010.000000</td>\n",
       "      <td>0.000000</td>\n",
       "      <td>0.000000</td>\n",
       "      <td>0.000000</td>\n",
       "      <td>0.000000</td>\n",
       "    </tr>\n",
       "    <tr>\n",
       "      <th>25%</th>\n",
       "      <td>618.000000</td>\n",
       "      <td>2011.000000</td>\n",
       "      <td>8.760000</td>\n",
       "      <td>15.050000</td>\n",
       "      <td>1340.970000</td>\n",
       "      <td>7.000000</td>\n",
       "    </tr>\n",
       "    <tr>\n",
       "      <th>50%</th>\n",
       "      <td>1248.000000</td>\n",
       "      <td>2013.000000</td>\n",
       "      <td>79.570000</td>\n",
       "      <td>176.000000</td>\n",
       "      <td>2174.740000</td>\n",
       "      <td>11.000000</td>\n",
       "    </tr>\n",
       "    <tr>\n",
       "      <th>75%</th>\n",
       "      <td>1866.000000</td>\n",
       "      <td>2016.000000</td>\n",
       "      <td>207.740000</td>\n",
       "      <td>495.690000</td>\n",
       "      <td>2730.820000</td>\n",
       "      <td>16.000000</td>\n",
       "    </tr>\n",
       "    <tr>\n",
       "      <th>max</th>\n",
       "      <td>2483.000000</td>\n",
       "      <td>2017.000000</td>\n",
       "      <td>1154.230000</td>\n",
       "      <td>3215.010000</td>\n",
       "      <td>4816.270000</td>\n",
       "      <td>19.000000</td>\n",
       "    </tr>\n",
       "  </tbody>\n",
       "</table>\n",
       "</div>"
      ],
      "text/plain": [
       "        Unnamed: 0         Year  RICE AREA (1000 ha)  \\\n",
       "count  2469.000000  2469.000000          2469.000000   \n",
       "mean   1244.662211  2013.495342           136.422572   \n",
       "std     718.015201     2.294663           166.189858   \n",
       "min       0.000000  2010.000000             0.000000   \n",
       "25%     618.000000  2011.000000             8.760000   \n",
       "50%    1248.000000  2013.000000            79.570000   \n",
       "75%    1866.000000  2016.000000           207.740000   \n",
       "max    2483.000000  2017.000000          1154.230000   \n",
       "\n",
       "       RICE PRODUCTION (1000 tons)  RICE YIELD (Kg per ha)     State_en  \n",
       "count                  2469.000000             2469.000000  2469.000000  \n",
       "mean                    342.785715             2062.814403    10.764682  \n",
       "std                     450.308119             1101.125888     5.403128  \n",
       "min                       0.000000                0.000000     0.000000  \n",
       "25%                      15.050000             1340.970000     7.000000  \n",
       "50%                     176.000000             2174.740000    11.000000  \n",
       "75%                     495.690000             2730.820000    16.000000  \n",
       "max                    3215.010000             4816.270000    19.000000  "
      ]
     },
     "execution_count": 15,
     "metadata": {},
     "output_type": "execute_result"
    }
   ],
   "source": [
    "df.describe()"
   ]
  },
  {
   "cell_type": "markdown",
   "id": "d7173d63-2dbf-4443-8990-898782a499c7",
   "metadata": {},
   "source": [
    "## 6. Are there duplicate values?"
   ]
  },
  {
   "cell_type": "code",
   "execution_count": 16,
   "id": "65d99a30-d392-43a7-9ead-ccea1d4cc275",
   "metadata": {},
   "outputs": [
    {
     "data": {
      "text/plain": [
       "np.int64(0)"
      ]
     },
     "execution_count": 16,
     "metadata": {},
     "output_type": "execute_result"
    }
   ],
   "source": [
    "df.duplicated().sum()"
   ]
  },
  {
   "cell_type": "markdown",
   "id": "91466d80-7e87-4c93-aa8d-fb67ca39d488",
   "metadata": {},
   "source": [
    "## 7. Is there any correlation present?"
   ]
  },
  {
   "cell_type": "code",
   "execution_count": 22,
   "id": "8a5893e3-9da8-4d66-9b19-f8003f6cdeb7",
   "metadata": {},
   "outputs": [
    {
     "data": {
      "text/html": [
       "<div>\n",
       "<style scoped>\n",
       "    .dataframe tbody tr th:only-of-type {\n",
       "        vertical-align: middle;\n",
       "    }\n",
       "    .dataframe tbody tr th {\n",
       "        vertical-align: top;\n",
       "    }\n",
       "    .dataframe thead th {\n",
       "        text-align: right;\n",
       "    }\n",
       "</style>\n",
       "<table border=\"1\" class=\"dataframe\">\n",
       "  <thead>\n",
       "    <tr style=\"text-align: right;\">\n",
       "      <th></th>\n",
       "      <th>Unnamed: 0</th>\n",
       "      <th>Year</th>\n",
       "      <th>State_en</th>\n",
       "    </tr>\n",
       "  </thead>\n",
       "  <tbody>\n",
       "    <tr>\n",
       "      <th>Unnamed: 0</th>\n",
       "      <td>1.000000</td>\n",
       "      <td>0.004611</td>\n",
       "      <td>0.178891</td>\n",
       "    </tr>\n",
       "    <tr>\n",
       "      <th>Year</th>\n",
       "      <td>0.004611</td>\n",
       "      <td>1.000000</td>\n",
       "      <td>-0.000137</td>\n",
       "    </tr>\n",
       "    <tr>\n",
       "      <th>State_en</th>\n",
       "      <td>0.178891</td>\n",
       "      <td>-0.000137</td>\n",
       "      <td>1.000000</td>\n",
       "    </tr>\n",
       "  </tbody>\n",
       "</table>\n",
       "</div>"
      ],
      "text/plain": [
       "            Unnamed: 0      Year  State_en\n",
       "Unnamed: 0    1.000000  0.004611  0.178891\n",
       "Year          0.004611  1.000000 -0.000137\n",
       "State_en      0.178891 -0.000137  1.000000"
      ]
     },
     "execution_count": 22,
     "metadata": {},
     "output_type": "execute_result"
    }
   ],
   "source": [
    "df.select_dtypes(include='int').dropna().corr()\n"
   ]
  },
  {
   "cell_type": "markdown",
   "id": "3c9e7ed8-2d5c-4532-bd8e-569e20787ab6",
   "metadata": {},
   "source": [
    "## 8. Pandas Profiling Code"
   ]
  },
  {
   "cell_type": "code",
   "execution_count": null,
   "id": "70809499-0a80-4fbc-a099-b33c503dd234",
   "metadata": {},
   "outputs": [],
   "source": [
    "from ydata_profiling import ProfileReport\n",
    "\n",
    "prof = ProfileReport(df)\n",
    "prof.to_file(\"pandas_profiling\")"
   ]
  }
 ],
 "metadata": {
  "kernelspec": {
   "display_name": "Python (notebook-env)",
   "language": "python",
   "name": "notebook-env"
  },
  "language_info": {
   "codemirror_mode": {
    "name": "ipython",
    "version": 3
   },
   "file_extension": ".py",
   "mimetype": "text/x-python",
   "name": "python",
   "nbconvert_exporter": "python",
   "pygments_lexer": "ipython3",
   "version": "3.13.5"
  }
 },
 "nbformat": 4,
 "nbformat_minor": 5
}
