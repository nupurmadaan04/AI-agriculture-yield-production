{
 "cells": [
  {
   "cell_type": "code",
   "execution_count": 2,
   "id": "415d2eaf-ffbc-458b-a4b4-8e565a17ecc2",
   "metadata": {},
   "outputs": [],
   "source": [
    "import pandas as pd\n",
    "import numpy as np\n",
    "import matplotlib.pyplot as plt\n",
    "import seaborn as sns"
   ]
  },
  {
   "cell_type": "code",
   "execution_count": 3,
   "id": "7a46c397-2cbe-4606-988e-497782095092",
   "metadata": {},
   "outputs": [],
   "source": [
    "df = pd.read_csv('../Datasets/rice_data.csv')"
   ]
  },
  {
   "cell_type": "code",
   "execution_count": 4,
   "id": "be0a26aa",
   "metadata": {},
   "outputs": [],
   "source": [
    "df.info()"
   ]
  },
  {
   "cell_type": "code",
   "execution_count": 5,
   "id": "63c4d17a-f3bc-4cc2-8813-7b9d233bae7f",
   "metadata": {},
   "outputs": [],
   "source": [
    "df.head(3)"
   ]
  },
  {
   "cell_type": "code",
   "execution_count": 6,
   "id": "ed63ee99",
   "metadata": {},
   "outputs": [],
   "source": [
    "df.drop(columns=['Unnamed: 0'],inplace=True)"
   ]
  },
  {
   "cell_type": "code",
   "execution_count": 7,
   "id": "b16f3d29",
   "metadata": {},
   "outputs": [],
   "source": [
    "df.head()"
   ]
  },
  {
   "cell_type": "code",
   "execution_count": 8,
   "id": "981948c6",
   "metadata": {},
   "outputs": [],
   "source": [
    "df.describe()"
   ]
  },
  {
   "cell_type": "markdown",
   "id": "a301bf55",
   "metadata": {},
   "source": [
    "# 1. Univariate Analysis"
   ]
  },
  {
   "cell_type": "code",
   "execution_count": 9,
   "id": "64b116c2",
   "metadata": {},
   "outputs": [],
   "source": [
    "# column - State Name\n",
    "sns.countplot(x=df['State Name'])\n",
    "plt.xticks(rotation=90)\n",
    "plt.show()"
   ]
  },
  {
   "cell_type": "code",
   "execution_count": 10,
   "id": "fd8bc869",
   "metadata": {},
   "outputs": [],
   "source": [
    "df['State Name'].value_counts()"
   ]
  },
  {
   "cell_type": "code",
   "execution_count": 11,
   "id": "c963a801",
   "metadata": {},
   "outputs": [],
   "source": [
    "# Column - RICE AREA (1000 ha)\n",
    "sns.histplot(x=df['RICE AREA (1000 ha)'],kde=True)"
   ]
  },
  {
   "cell_type": "code",
   "execution_count": 12,
   "id": "dbb86608",
   "metadata": {},
   "outputs": [],
   "source": [
    "sns.boxplot(x=df['RICE AREA (1000 ha)'])"
   ]
  },
  {
   "cell_type": "code",
   "execution_count": 13,
   "id": "18621004",
   "metadata": {},
   "outputs": [],
   "source": [
    "# Right Skewed\n",
    "df['RICE AREA (1000 ha)'].skew()"
   ]
  },
  {
   "cell_type": "code",
   "execution_count": 14,
   "id": "a913742c",
   "metadata": {},
   "outputs": [],
   "source": [
    "# Column - RICE PRODUCTION (1000 tons)\n",
    "sns.histplot(x=df['RICE PRODUCTION (1000 tons)'],kde=True)"
   ]
  },
  {
   "cell_type": "code",
   "execution_count": 15,
   "id": "cb5abdd8",
   "metadata": {},
   "outputs": [],
   "source": [
    "sns.boxplot(x=df['RICE PRODUCTION (1000 tons)'])"
   ]
  },
  {
   "cell_type": "code",
   "execution_count": 16,
   "id": "372597ee",
   "metadata": {},
   "outputs": [],
   "source": [
    "# right skewed\n",
    "df['RICE PRODUCTION (1000 tons)'].skew()"
   ]
  },
  {
   "cell_type": "code",
   "execution_count": 17,
   "id": "5ff30177",
   "metadata": {},
   "outputs": [],
   "source": [
    "# Column - RICE YIELD (Kg per ha)\n",
    "sns.histplot(x=df['RICE YIELD (Kg per ha)'],kde=True)"
   ]
  },
  {
   "cell_type": "code",
   "execution_count": 18,
   "id": "fae70a36",
   "metadata": {},
   "outputs": [],
   "source": [
    "sns.boxplot(x=df['RICE YIELD (Kg per ha)'])"
   ]
  },
  {
   "cell_type": "code",
   "execution_count": 19,
   "id": "6050fac7",
   "metadata": {},
   "outputs": [],
   "source": [
    "# Left skewed\n",
    "df['RICE YIELD (Kg per ha)'].skew()"
   ]
  },
  {
   "cell_type": "markdown",
   "id": "fe5e9bb3",
   "metadata": {},
   "source": [
    "# 2. Bivariate Analysis"
   ]
  },
  {
   "cell_type": "code",
   "execution_count": 20,
   "id": "13bcad17",
   "metadata": {},
   "outputs": [],
   "source": [
    "#  State Name vs RICE AREA (1000 ha)\n",
    "sns.barplot(x=df['State Name'],y=df['RICE AREA (1000 ha)'])\n",
    "plt.xticks(rotation=90)\n",
    "plt.show()"
   ]
  }
 ],
 "metadata": {
  "kernelspec": {
   "display_name": "Python 3",
   "language": "python",
   "name": "python3"
  },
  "language_info": {
   "name": "python",
   "version": ""
  }
 },
 "nbformat": 4,
 "nbformat_minor": 5
}
