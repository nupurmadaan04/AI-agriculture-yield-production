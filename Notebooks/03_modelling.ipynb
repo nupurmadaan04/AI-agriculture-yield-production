{
 "cells": [
  {
   "cell_type": "code",
   "execution_count": 1,
   "id": "3d0cc02b-7b9c-434a-bbc6-5ede5998449c",
   "metadata": {},
   "outputs": [],
   "source": [
    "# Install required packages (run only once, then comment out)\n",
    "# !pip install pandas matplotlib seaborn numpy scikit-learn joblib\n",
    "\n",
    "import pandas as pd\n",
    "import matplotlib.pyplot as plt\n",
    "import seaborn as sns\n",
    "import numpy as np"
   ]
  },
  {
   "cell_type": "code",
   "execution_count": 2,
   "id": "e1636eea-c20a-4edb-b5be-289b9bc2d7fe",
   "metadata": {},
   "outputs": [
    {
     "ename": "FileNotFoundError",
     "evalue": "[Errno 2] No such file or directory: 'C:\\\\Users\\\\devin\\\\AI-agriculture-yield-prediction\\\\Datasets\\\\rice_data_outlier_removed.csv'",
     "output_type": "error",
     "traceback": [
      "\u001b[1;31m---------------------------------------------------------------------------\u001b[0m",
      "\u001b[1;31mFileNotFoundError\u001b[0m                         Traceback (most recent call last)",
      "Cell \u001b[1;32mIn[2], line 1\u001b[0m\n\u001b[1;32m----> 1\u001b[0m df \u001b[38;5;241m=\u001b[39m \u001b[43mpd\u001b[49m\u001b[38;5;241;43m.\u001b[39;49m\u001b[43mread_csv\u001b[49m\u001b[43m(\u001b[49m\u001b[38;5;124;43mr\u001b[39;49m\u001b[38;5;124;43m'\u001b[39;49m\u001b[38;5;124;43mC:\u001b[39;49m\u001b[38;5;124;43m\\\u001b[39;49m\u001b[38;5;124;43mUsers\u001b[39;49m\u001b[38;5;124;43m\\\u001b[39;49m\u001b[38;5;124;43mdevin\u001b[39;49m\u001b[38;5;124;43m\\\u001b[39;49m\u001b[38;5;124;43mAI-agriculture-yield-prediction\u001b[39;49m\u001b[38;5;124;43m\\\u001b[39;49m\u001b[38;5;124;43mDatasets\u001b[39;49m\u001b[38;5;124;43m\\\u001b[39;49m\u001b[38;5;124;43mrice_data_outlier_removed.csv\u001b[39;49m\u001b[38;5;124;43m'\u001b[39;49m\u001b[43m)\u001b[49m\n",
      "File \u001b[1;32m~\\AppData\\Roaming\\Python\\Python312\\site-packages\\pandas\\io\\parsers\\readers.py:1026\u001b[0m, in \u001b[0;36mread_csv\u001b[1;34m(filepath_or_buffer, sep, delimiter, header, names, index_col, usecols, dtype, engine, converters, true_values, false_values, skipinitialspace, skiprows, skipfooter, nrows, na_values, keep_default_na, na_filter, verbose, skip_blank_lines, parse_dates, infer_datetime_format, keep_date_col, date_parser, date_format, dayfirst, cache_dates, iterator, chunksize, compression, thousands, decimal, lineterminator, quotechar, quoting, doublequote, escapechar, comment, encoding, encoding_errors, dialect, on_bad_lines, delim_whitespace, low_memory, memory_map, float_precision, storage_options, dtype_backend)\u001b[0m\n\u001b[0;32m   1013\u001b[0m kwds_defaults \u001b[38;5;241m=\u001b[39m _refine_defaults_read(\n\u001b[0;32m   1014\u001b[0m     dialect,\n\u001b[0;32m   1015\u001b[0m     delimiter,\n\u001b[1;32m   (...)\u001b[0m\n\u001b[0;32m   1022\u001b[0m     dtype_backend\u001b[38;5;241m=\u001b[39mdtype_backend,\n\u001b[0;32m   1023\u001b[0m )\n\u001b[0;32m   1024\u001b[0m kwds\u001b[38;5;241m.\u001b[39mupdate(kwds_defaults)\n\u001b[1;32m-> 1026\u001b[0m \u001b[38;5;28;01mreturn\u001b[39;00m \u001b[43m_read\u001b[49m\u001b[43m(\u001b[49m\u001b[43mfilepath_or_buffer\u001b[49m\u001b[43m,\u001b[49m\u001b[43m \u001b[49m\u001b[43mkwds\u001b[49m\u001b[43m)\u001b[49m\n",
      "File \u001b[1;32m~\\AppData\\Roaming\\Python\\Python312\\site-packages\\pandas\\io\\parsers\\readers.py:620\u001b[0m, in \u001b[0;36m_read\u001b[1;34m(filepath_or_buffer, kwds)\u001b[0m\n\u001b[0;32m    617\u001b[0m _validate_names(kwds\u001b[38;5;241m.\u001b[39mget(\u001b[38;5;124m\"\u001b[39m\u001b[38;5;124mnames\u001b[39m\u001b[38;5;124m\"\u001b[39m, \u001b[38;5;28;01mNone\u001b[39;00m))\n\u001b[0;32m    619\u001b[0m \u001b[38;5;66;03m# Create the parser.\u001b[39;00m\n\u001b[1;32m--> 620\u001b[0m parser \u001b[38;5;241m=\u001b[39m \u001b[43mTextFileReader\u001b[49m\u001b[43m(\u001b[49m\u001b[43mfilepath_or_buffer\u001b[49m\u001b[43m,\u001b[49m\u001b[43m \u001b[49m\u001b[38;5;241;43m*\u001b[39;49m\u001b[38;5;241;43m*\u001b[39;49m\u001b[43mkwds\u001b[49m\u001b[43m)\u001b[49m\n\u001b[0;32m    622\u001b[0m \u001b[38;5;28;01mif\u001b[39;00m chunksize \u001b[38;5;129;01mor\u001b[39;00m iterator:\n\u001b[0;32m    623\u001b[0m     \u001b[38;5;28;01mreturn\u001b[39;00m parser\n",
      "File \u001b[1;32m~\\AppData\\Roaming\\Python\\Python312\\site-packages\\pandas\\io\\parsers\\readers.py:1620\u001b[0m, in \u001b[0;36mTextFileReader.__init__\u001b[1;34m(self, f, engine, **kwds)\u001b[0m\n\u001b[0;32m   1617\u001b[0m     \u001b[38;5;28mself\u001b[39m\u001b[38;5;241m.\u001b[39moptions[\u001b[38;5;124m\"\u001b[39m\u001b[38;5;124mhas_index_names\u001b[39m\u001b[38;5;124m\"\u001b[39m] \u001b[38;5;241m=\u001b[39m kwds[\u001b[38;5;124m\"\u001b[39m\u001b[38;5;124mhas_index_names\u001b[39m\u001b[38;5;124m\"\u001b[39m]\n\u001b[0;32m   1619\u001b[0m \u001b[38;5;28mself\u001b[39m\u001b[38;5;241m.\u001b[39mhandles: IOHandles \u001b[38;5;241m|\u001b[39m \u001b[38;5;28;01mNone\u001b[39;00m \u001b[38;5;241m=\u001b[39m \u001b[38;5;28;01mNone\u001b[39;00m\n\u001b[1;32m-> 1620\u001b[0m \u001b[38;5;28mself\u001b[39m\u001b[38;5;241m.\u001b[39m_engine \u001b[38;5;241m=\u001b[39m \u001b[38;5;28;43mself\u001b[39;49m\u001b[38;5;241;43m.\u001b[39;49m\u001b[43m_make_engine\u001b[49m\u001b[43m(\u001b[49m\u001b[43mf\u001b[49m\u001b[43m,\u001b[49m\u001b[43m \u001b[49m\u001b[38;5;28;43mself\u001b[39;49m\u001b[38;5;241;43m.\u001b[39;49m\u001b[43mengine\u001b[49m\u001b[43m)\u001b[49m\n",
      "File \u001b[1;32m~\\AppData\\Roaming\\Python\\Python312\\site-packages\\pandas\\io\\parsers\\readers.py:1880\u001b[0m, in \u001b[0;36mTextFileReader._make_engine\u001b[1;34m(self, f, engine)\u001b[0m\n\u001b[0;32m   1878\u001b[0m     \u001b[38;5;28;01mif\u001b[39;00m \u001b[38;5;124m\"\u001b[39m\u001b[38;5;124mb\u001b[39m\u001b[38;5;124m\"\u001b[39m \u001b[38;5;129;01mnot\u001b[39;00m \u001b[38;5;129;01min\u001b[39;00m mode:\n\u001b[0;32m   1879\u001b[0m         mode \u001b[38;5;241m+\u001b[39m\u001b[38;5;241m=\u001b[39m \u001b[38;5;124m\"\u001b[39m\u001b[38;5;124mb\u001b[39m\u001b[38;5;124m\"\u001b[39m\n\u001b[1;32m-> 1880\u001b[0m \u001b[38;5;28mself\u001b[39m\u001b[38;5;241m.\u001b[39mhandles \u001b[38;5;241m=\u001b[39m \u001b[43mget_handle\u001b[49m\u001b[43m(\u001b[49m\n\u001b[0;32m   1881\u001b[0m \u001b[43m    \u001b[49m\u001b[43mf\u001b[49m\u001b[43m,\u001b[49m\n\u001b[0;32m   1882\u001b[0m \u001b[43m    \u001b[49m\u001b[43mmode\u001b[49m\u001b[43m,\u001b[49m\n\u001b[0;32m   1883\u001b[0m \u001b[43m    \u001b[49m\u001b[43mencoding\u001b[49m\u001b[38;5;241;43m=\u001b[39;49m\u001b[38;5;28;43mself\u001b[39;49m\u001b[38;5;241;43m.\u001b[39;49m\u001b[43moptions\u001b[49m\u001b[38;5;241;43m.\u001b[39;49m\u001b[43mget\u001b[49m\u001b[43m(\u001b[49m\u001b[38;5;124;43m\"\u001b[39;49m\u001b[38;5;124;43mencoding\u001b[39;49m\u001b[38;5;124;43m\"\u001b[39;49m\u001b[43m,\u001b[49m\u001b[43m \u001b[49m\u001b[38;5;28;43;01mNone\u001b[39;49;00m\u001b[43m)\u001b[49m\u001b[43m,\u001b[49m\n\u001b[0;32m   1884\u001b[0m \u001b[43m    \u001b[49m\u001b[43mcompression\u001b[49m\u001b[38;5;241;43m=\u001b[39;49m\u001b[38;5;28;43mself\u001b[39;49m\u001b[38;5;241;43m.\u001b[39;49m\u001b[43moptions\u001b[49m\u001b[38;5;241;43m.\u001b[39;49m\u001b[43mget\u001b[49m\u001b[43m(\u001b[49m\u001b[38;5;124;43m\"\u001b[39;49m\u001b[38;5;124;43mcompression\u001b[39;49m\u001b[38;5;124;43m\"\u001b[39;49m\u001b[43m,\u001b[49m\u001b[43m \u001b[49m\u001b[38;5;28;43;01mNone\u001b[39;49;00m\u001b[43m)\u001b[49m\u001b[43m,\u001b[49m\n\u001b[0;32m   1885\u001b[0m \u001b[43m    \u001b[49m\u001b[43mmemory_map\u001b[49m\u001b[38;5;241;43m=\u001b[39;49m\u001b[38;5;28;43mself\u001b[39;49m\u001b[38;5;241;43m.\u001b[39;49m\u001b[43moptions\u001b[49m\u001b[38;5;241;43m.\u001b[39;49m\u001b[43mget\u001b[49m\u001b[43m(\u001b[49m\u001b[38;5;124;43m\"\u001b[39;49m\u001b[38;5;124;43mmemory_map\u001b[39;49m\u001b[38;5;124;43m\"\u001b[39;49m\u001b[43m,\u001b[49m\u001b[43m \u001b[49m\u001b[38;5;28;43;01mFalse\u001b[39;49;00m\u001b[43m)\u001b[49m\u001b[43m,\u001b[49m\n\u001b[0;32m   1886\u001b[0m \u001b[43m    \u001b[49m\u001b[43mis_text\u001b[49m\u001b[38;5;241;43m=\u001b[39;49m\u001b[43mis_text\u001b[49m\u001b[43m,\u001b[49m\n\u001b[0;32m   1887\u001b[0m \u001b[43m    \u001b[49m\u001b[43merrors\u001b[49m\u001b[38;5;241;43m=\u001b[39;49m\u001b[38;5;28;43mself\u001b[39;49m\u001b[38;5;241;43m.\u001b[39;49m\u001b[43moptions\u001b[49m\u001b[38;5;241;43m.\u001b[39;49m\u001b[43mget\u001b[49m\u001b[43m(\u001b[49m\u001b[38;5;124;43m\"\u001b[39;49m\u001b[38;5;124;43mencoding_errors\u001b[39;49m\u001b[38;5;124;43m\"\u001b[39;49m\u001b[43m,\u001b[49m\u001b[43m \u001b[49m\u001b[38;5;124;43m\"\u001b[39;49m\u001b[38;5;124;43mstrict\u001b[39;49m\u001b[38;5;124;43m\"\u001b[39;49m\u001b[43m)\u001b[49m\u001b[43m,\u001b[49m\n\u001b[0;32m   1888\u001b[0m \u001b[43m    \u001b[49m\u001b[43mstorage_options\u001b[49m\u001b[38;5;241;43m=\u001b[39;49m\u001b[38;5;28;43mself\u001b[39;49m\u001b[38;5;241;43m.\u001b[39;49m\u001b[43moptions\u001b[49m\u001b[38;5;241;43m.\u001b[39;49m\u001b[43mget\u001b[49m\u001b[43m(\u001b[49m\u001b[38;5;124;43m\"\u001b[39;49m\u001b[38;5;124;43mstorage_options\u001b[39;49m\u001b[38;5;124;43m\"\u001b[39;49m\u001b[43m,\u001b[49m\u001b[43m \u001b[49m\u001b[38;5;28;43;01mNone\u001b[39;49;00m\u001b[43m)\u001b[49m\u001b[43m,\u001b[49m\n\u001b[0;32m   1889\u001b[0m \u001b[43m\u001b[49m\u001b[43m)\u001b[49m\n\u001b[0;32m   1890\u001b[0m \u001b[38;5;28;01massert\u001b[39;00m \u001b[38;5;28mself\u001b[39m\u001b[38;5;241m.\u001b[39mhandles \u001b[38;5;129;01mis\u001b[39;00m \u001b[38;5;129;01mnot\u001b[39;00m \u001b[38;5;28;01mNone\u001b[39;00m\n\u001b[0;32m   1891\u001b[0m f \u001b[38;5;241m=\u001b[39m \u001b[38;5;28mself\u001b[39m\u001b[38;5;241m.\u001b[39mhandles\u001b[38;5;241m.\u001b[39mhandle\n",
      "File \u001b[1;32m~\\AppData\\Roaming\\Python\\Python312\\site-packages\\pandas\\io\\common.py:873\u001b[0m, in \u001b[0;36mget_handle\u001b[1;34m(path_or_buf, mode, encoding, compression, memory_map, is_text, errors, storage_options)\u001b[0m\n\u001b[0;32m    868\u001b[0m \u001b[38;5;28;01melif\u001b[39;00m \u001b[38;5;28misinstance\u001b[39m(handle, \u001b[38;5;28mstr\u001b[39m):\n\u001b[0;32m    869\u001b[0m     \u001b[38;5;66;03m# Check whether the filename is to be opened in binary mode.\u001b[39;00m\n\u001b[0;32m    870\u001b[0m     \u001b[38;5;66;03m# Binary mode does not support 'encoding' and 'newline'.\u001b[39;00m\n\u001b[0;32m    871\u001b[0m     \u001b[38;5;28;01mif\u001b[39;00m ioargs\u001b[38;5;241m.\u001b[39mencoding \u001b[38;5;129;01mand\u001b[39;00m \u001b[38;5;124m\"\u001b[39m\u001b[38;5;124mb\u001b[39m\u001b[38;5;124m\"\u001b[39m \u001b[38;5;129;01mnot\u001b[39;00m \u001b[38;5;129;01min\u001b[39;00m ioargs\u001b[38;5;241m.\u001b[39mmode:\n\u001b[0;32m    872\u001b[0m         \u001b[38;5;66;03m# Encoding\u001b[39;00m\n\u001b[1;32m--> 873\u001b[0m         handle \u001b[38;5;241m=\u001b[39m \u001b[38;5;28;43mopen\u001b[39;49m\u001b[43m(\u001b[49m\n\u001b[0;32m    874\u001b[0m \u001b[43m            \u001b[49m\u001b[43mhandle\u001b[49m\u001b[43m,\u001b[49m\n\u001b[0;32m    875\u001b[0m \u001b[43m            \u001b[49m\u001b[43mioargs\u001b[49m\u001b[38;5;241;43m.\u001b[39;49m\u001b[43mmode\u001b[49m\u001b[43m,\u001b[49m\n\u001b[0;32m    876\u001b[0m \u001b[43m            \u001b[49m\u001b[43mencoding\u001b[49m\u001b[38;5;241;43m=\u001b[39;49m\u001b[43mioargs\u001b[49m\u001b[38;5;241;43m.\u001b[39;49m\u001b[43mencoding\u001b[49m\u001b[43m,\u001b[49m\n\u001b[0;32m    877\u001b[0m \u001b[43m            \u001b[49m\u001b[43merrors\u001b[49m\u001b[38;5;241;43m=\u001b[39;49m\u001b[43merrors\u001b[49m\u001b[43m,\u001b[49m\n\u001b[0;32m    878\u001b[0m \u001b[43m            \u001b[49m\u001b[43mnewline\u001b[49m\u001b[38;5;241;43m=\u001b[39;49m\u001b[38;5;124;43m\"\u001b[39;49m\u001b[38;5;124;43m\"\u001b[39;49m\u001b[43m,\u001b[49m\n\u001b[0;32m    879\u001b[0m \u001b[43m        \u001b[49m\u001b[43m)\u001b[49m\n\u001b[0;32m    880\u001b[0m     \u001b[38;5;28;01melse\u001b[39;00m:\n\u001b[0;32m    881\u001b[0m         \u001b[38;5;66;03m# Binary mode\u001b[39;00m\n\u001b[0;32m    882\u001b[0m         handle \u001b[38;5;241m=\u001b[39m \u001b[38;5;28mopen\u001b[39m(handle, ioargs\u001b[38;5;241m.\u001b[39mmode)\n",
      "\u001b[1;31mFileNotFoundError\u001b[0m: [Errno 2] No such file or directory: 'C:\\\\Users\\\\devin\\\\AI-agriculture-yield-prediction\\\\Datasets\\\\rice_data_outlier_removed.csv'"
     ]
    }
   ],
   "source": [
    "df = pd.read_csv(r'c:\\Users\\dell\\AI-agriculture-yield-production\\Datasets\\rice_data_outlier_removed.csv')"
   ]
  },
  {
   "cell_type": "code",
   "id": "0773388f-cdfb-4f59-8f9e-b5f514e0df93",
   "metadata": {},
   "outputs": [],
   "source": [
    "x = df[['Year' , 'RICE AREA (1000 ha)' , 'RICE PRODUCTION (1000 tons)', 'State_en']]\n",
    "y = df['RICE YIELD (Kg per ha)']"
   ]
  },
  {
   "cell_type": "code",
"execution_count": 4,

   "id": "c0a2dc18-df84-4dfb-ae4f-94fb5aa042e2",
   "metadata": {},
   "outputs": [],
   "source": [
    "from sklearn.model_selection import train_test_split\n",
    "x_train, x_test, y_train, y_test = train_test_split(x, y, test_size=0.2, random_state=42)"
   ]
  },
  {
   "cell_type": "code",
"execution_count": 5,

   "id": "a2debae2-da1e-43e2-b434-3fd3eb73c6aa",
   "metadata": {},
   "outputs": [],
   "source": [
    "from sklearn.preprocessing import StandardScaler\n",
    "ss = StandardScaler()\n",
    "x_train_scaled = ss.fit_transform(x_train)\n",
    "x_test_scaled = ss.transform(x_test)"
   ]
  },
  {
   "cell_type": "code",
"execution_count": 6,
"id": "b2d43fa3-646b-4f67-aaf4-89abe54a7d42",
"metadata": {},
"outputs": [
 {
  "name": "stdout",
  "output_type": "stream",
  "text": [
   "Please run the cell that defines and fits rf first.\n"
  ]
 }
],

   "source": [
    "# Ensure rf is defined before running this cell\n",
    "try:\n",
    "    from sklearn.model_selection import cross_val_score\n",
    "    scores = cross_val_score(rf, x_train_scaled, y_train, cv=5)\n",
    "    print('Cross-validated train score: ', scores.mean() * 100)\n",
    "except NameError:\n",
    "    print('Please run the cell that defines and fits rf first.')"
   ]
  },
  {
   "cell_type": "code",
"execution_count": null,
"outputs": [],

   "source": [
    "rf.score(x_train_scaled,y_train)*100"
   ]
  },
  {
   "cell_type": "code",
"execution_count": null,
"id": "d862358a-85de-4a94-971c-3f8dd8a5b2ba",
"metadata": {},
"outputs": []

   "source": [
    "import joblib\n",
    "import os\n",
    "os.makedirs('Models', exist_ok=True)\n",
    "joblib.dump(rf, 'Models/rf_model.pkl')\n",
    "joblib.dump(ss, 'Models/scaler.pkl')"
   ]
  },
  {
   "cell_type": "code",
"execution_count": null,

   "id": "5866a897-4c8e-47a7-910f-64f6b5f964a4",
   "metadata": {},
   "outputs": [],
   "source": [
    "y_pred = rf.predict(x_test_scaled)\n",
    "pred_df = pd.DataFrame({'Actual': y_test, 'Predicted': y_pred})\n",
    "pred_df.to_csv('Models/test_predictions.csv', index=False)"
   ]
  },
  {
   "cell_type": "code",
   "execution_count": 12,
   "id": "4a8c3df9-aa45-4f96-948f-81ae19baca6d",
   "metadata": {},
   "outputs": [
    {
     "ename": "SyntaxError",
     "evalue": "invalid syntax (1972316463.py, line 2)",
     "output_type": "error",
     "traceback": [
      "  \u001b[36mCell\u001b[39m\u001b[36m \u001b[39m\u001b[32mIn[12]\u001b[39m\u001b[32m, line 2\u001b[39m\n\u001b[31m    \u001b[39m\u001b[31m- Run all cells in order from top to bottom to avoid NameError and missing variable issues.\u001b[39m\n          ^\n\u001b[31mSyntaxError\u001b[39m\u001b[31m:\u001b[39m invalid syntax\n"
     ]
    }
   ],
   "source": [
    "## Notebook Usage Tips\n",
    "- Run all cells in order from top to bottom to avoid NameError and missing variable issues.\n",
    "- If you restart the kernel, re-run all cells to redefine variables and models.\n",
    "- If you see a ModuleNotFoundError, install the required package using pip in a code cell, e.g., `!pip install pandas`.\n",
    "- If you see a FileNotFoundError, check that the file path matches your project structure.\n"
   ]
  },
  {
   "cell_type": "code",
   "execution_count": 13,
   "id": "cd368956",
   "metadata": {},
   "outputs": [
    {
     "name": "stdout",
     "output_type": "stream",
     "text": [
      "Fitting 5 folds for each of 36 candidates, totalling 180 fits\n",
      "Best Score: 0.9661651111878362\n",
      "Best Params: {'max_depth': 30, 'min_samples_split': 2, 'n_estimators': 150}\n",
      "Best Score: 0.9661651111878362\n",
      "Best Params: {'max_depth': 30, 'min_samples_split': 2, 'n_estimators': 150}\n"
     ]
    }
   ],
   "source": [
    "from sklearn.model_selection import GridSearchCV\n",
    "\n",
    "# Define parameter grid for RandomForestRegressor\n",
    "param_grid = {\n",
    "    'n_estimators': [50, 100, 150],\n",
    "    'max_depth': [10, 20, 30, None],\n",
    "    'min_samples_split': [2, 5, 10]\n",
    "}\n",
    "\n",
    "grid_search = GridSearchCV(\n",
    "    estimator=RandomForestRegressor(random_state=42),\n",
    "    param_grid=param_grid,\n",
    "    cv=5,\n",
    "    n_jobs=-1,\n",
    "    scoring='r2',\n",
    "    verbose=2\n",
    ")\n",
    "\n",
    "grid_search.fit(x_train_scaled, y_train)\n",
    "\n",
    "print('Best Score:', grid_search.best_score_)\n",
    "print('Best Params:', grid_search.best_params_)\n",
    "\n",
    "# Save best parameters to a JSON file\n",
    "import json\n",
    "with open('Models/best_params.json', 'w') as f:\n",
    "    json.dump(grid_search.best_params_, f, indent=4)\n"
   ]
  },
  {
   "cell_type": "code",
   "execution_count": 15,
   "id": "dc88f06e",
   "metadata": {},
   "outputs": [
    {
     "name": "stdout",
     "output_type": "stream",
     "text": [
      "Collecting xgboost\n",
      "  Downloading xgboost-3.0.2-py3-none-win_amd64.whl.metadata (2.1 kB)\n",
      "Requirement already satisfied: numpy in c:\\users\\dell\\ai-agriculture-yield-production\\.venv\\lib\\site-packages (from xgboost) (2.3.2)\n",
      "Requirement already satisfied: scipy in c:\\users\\dell\\ai-agriculture-yield-production\\.venv\\lib\\site-packages (from xgboost) (1.16.1)\n",
      "Downloading xgboost-3.0.2-py3-none-win_amd64.whl (150.0 MB)\n",
      "   ---------------------------------------- 0.0/150.0 MB ? eta -:--:--\n",
      "   ---------------------------------------- 1.3/150.0 MB 7.0 MB/s eta 0:00:22\n",
      "    --------------------------------------- 2.6/150.0 MB 6.6 MB/s eta 0:00:23\n",
      "   - -------------------------------------- 3.9/150.0 MB 6.5 MB/s eta 0:00:23\n",
      "   - -------------------------------------- 5.2/150.0 MB 6.3 MB/s eta 0:00:24\n",
      "   - -------------------------------------- 6.6/150.0 MB 6.3 MB/s eta 0:00:23\n",
      "   -- ------------------------------------- 7.9/150.0 MB 6.3 MB/s eta 0:00:23\n",
      "   -- ------------------------------------- 9.2/150.0 MB 6.3 MB/s eta 0:00:23\n",
      "   -- ------------------------------------- 10.2/150.0 MB 6.1 MB/s eta 0:00:23\n",
      "   --- ------------------------------------ 11.3/150.0 MB 5.9 MB/s eta 0:00:24\n",
      "   --- ------------------------------------ 12.6/150.0 MB 5.9 MB/s eta 0:00:24\n",
      "   --- ------------------------------------ 13.9/150.0 MB 6.0 MB/s eta 0:00:23\n",
      "   ---- ----------------------------------- 15.2/150.0 MB 6.0 MB/s eta 0:00:23\n",
      "   ---- ----------------------------------- 16.5/150.0 MB 6.0 MB/s eta 0:00:23\n",
      "   ---- ----------------------------------- 17.8/150.0 MB 6.0 MB/s eta 0:00:22\n",
      "   ----- ---------------------------------- 19.1/150.0 MB 6.0 MB/s eta 0:00:22\n",
      "   ----- ---------------------------------- 20.4/150.0 MB 6.1 MB/s eta 0:00:22\n",
      "   ----- ---------------------------------- 21.8/150.0 MB 6.0 MB/s eta 0:00:22\n",
      "   ------ --------------------------------- 23.1/150.0 MB 6.0 MB/s eta 0:00:22\n",
      "   ------ --------------------------------- 24.4/150.0 MB 6.1 MB/s eta 0:00:21\n",
      "   ------ --------------------------------- 25.7/150.0 MB 6.1 MB/s eta 0:00:21\n",
      "   ------- -------------------------------- 27.0/150.0 MB 6.1 MB/s eta 0:00:21\n",
      "   ------- -------------------------------- 28.3/150.0 MB 6.1 MB/s eta 0:00:20\n",
      "   ------- -------------------------------- 29.6/150.0 MB 6.1 MB/s eta 0:00:20\n",
      "   -------- ------------------------------- 31.2/150.0 MB 6.1 MB/s eta 0:00:20\n",
      "   -------- ------------------------------- 32.5/150.0 MB 6.1 MB/s eta 0:00:20\n",
      "   --------- ------------------------------ 33.8/150.0 MB 6.1 MB/s eta 0:00:20\n",
      "   --------- ------------------------------ 35.1/150.0 MB 6.1 MB/s eta 0:00:19\n",
      "   --------- ------------------------------ 36.4/150.0 MB 6.1 MB/s eta 0:00:19\n",
      "   --------- ------------------------------ 37.2/150.0 MB 6.1 MB/s eta 0:00:19\n",
      "   ---------- ----------------------------- 38.8/150.0 MB 6.1 MB/s eta 0:00:19\n",
      "   ---------- ----------------------------- 40.1/150.0 MB 6.1 MB/s eta 0:00:19\n",
      "   ----------- ---------------------------- 41.4/150.0 MB 6.1 MB/s eta 0:00:18\n",
      "   ----------- ---------------------------- 42.7/150.0 MB 6.1 MB/s eta 0:00:18\n",
      "   ----------- ---------------------------- 44.0/150.0 MB 6.1 MB/s eta 0:00:18\n",
      "   ------------ --------------------------- 45.4/150.0 MB 6.1 MB/s eta 0:00:18\n",
      "   ------------ --------------------------- 46.7/150.0 MB 6.1 MB/s eta 0:00:17\n",
      "   ------------ --------------------------- 48.0/150.0 MB 6.1 MB/s eta 0:00:17\n",
      "   ------------- -------------------------- 49.3/150.0 MB 6.1 MB/s eta 0:00:17\n",
      "   ------------- -------------------------- 50.6/150.0 MB 6.1 MB/s eta 0:00:17\n",
      "   ------------- -------------------------- 52.2/150.0 MB 6.1 MB/s eta 0:00:17\n",
      "   -------------- ------------------------- 53.5/150.0 MB 6.1 MB/s eta 0:00:16\n",
      "   -------------- ------------------------- 54.8/150.0 MB 6.1 MB/s eta 0:00:16\n",
      "   -------------- ------------------------- 56.1/150.0 MB 6.1 MB/s eta 0:00:16\n",
      "   --------------- ------------------------ 57.4/150.0 MB 6.1 MB/s eta 0:00:16\n",
      "   --------------- ------------------------ 58.7/150.0 MB 6.1 MB/s eta 0:00:15\n",
      "   ---------------- ----------------------- 60.0/150.0 MB 6.1 MB/s eta 0:00:15\n",
      "   ---------------- ----------------------- 61.3/150.0 MB 6.1 MB/s eta 0:00:15\n",
      "   ---------------- ----------------------- 62.7/150.0 MB 6.1 MB/s eta 0:00:15\n",
      "   ----------------- ---------------------- 64.0/150.0 MB 6.1 MB/s eta 0:00:15\n",
      "   ----------------- ---------------------- 65.0/150.0 MB 6.1 MB/s eta 0:00:14\n",
      "   ----------------- ---------------------- 66.3/150.0 MB 6.1 MB/s eta 0:00:14\n",
      "   ----------------- ---------------------- 67.4/150.0 MB 6.1 MB/s eta 0:00:14\n",
      "   ------------------ --------------------- 68.7/150.0 MB 6.1 MB/s eta 0:00:14\n",
      "   ------------------ --------------------- 70.0/150.0 MB 6.1 MB/s eta 0:00:14\n",
      "   ------------------- -------------------- 71.3/150.0 MB 6.1 MB/s eta 0:00:13\n",
      "   ------------------- -------------------- 72.9/150.0 MB 6.1 MB/s eta 0:00:13\n",
      "   ------------------- -------------------- 74.2/150.0 MB 6.1 MB/s eta 0:00:13\n",
      "   -------------------- ------------------- 75.5/150.0 MB 6.1 MB/s eta 0:00:13\n",
      "   -------------------- ------------------- 76.8/150.0 MB 6.1 MB/s eta 0:00:13\n",
      "   -------------------- ------------------- 78.1/150.0 MB 6.1 MB/s eta 0:00:12\n",
      "   --------------------- ------------------ 79.4/150.0 MB 6.1 MB/s eta 0:00:12\n",
      "   --------------------- ------------------ 80.7/150.0 MB 6.1 MB/s eta 0:00:12\n",
      "   --------------------- ------------------ 82.1/150.0 MB 6.1 MB/s eta 0:00:12\n",
      "   ---------------------- ----------------- 83.4/150.0 MB 6.1 MB/s eta 0:00:11\n",
      "   ---------------------- ----------------- 84.7/150.0 MB 6.1 MB/s eta 0:00:11\n",
      "   ---------------------- ----------------- 86.0/150.0 MB 6.1 MB/s eta 0:00:11\n",
      "   ----------------------- ---------------- 87.6/150.0 MB 6.1 MB/s eta 0:00:11\n",
      "   ----------------------- ---------------- 88.9/150.0 MB 6.1 MB/s eta 0:00:10\n",
      "   ------------------------ --------------- 90.2/150.0 MB 6.1 MB/s eta 0:00:10\n",
      "   ------------------------ --------------- 91.5/150.0 MB 6.1 MB/s eta 0:00:10\n",
      "   ------------------------ --------------- 92.3/150.0 MB 6.1 MB/s eta 0:00:10\n",
      "   ------------------------ --------------- 93.6/150.0 MB 6.1 MB/s eta 0:00:10\n",
      "   ------------------------- -------------- 94.9/150.0 MB 6.1 MB/s eta 0:00:10\n",
      "   ------------------------- -------------- 96.2/150.0 MB 6.1 MB/s eta 0:00:09\n",
      "   -------------------------- ------------- 97.8/150.0 MB 6.1 MB/s eta 0:00:09\n",
      "   -------------------------- ------------- 99.1/150.0 MB 6.1 MB/s eta 0:00:09\n",
      "   -------------------------- ------------- 100.4/150.0 MB 6.1 MB/s eta 0:00:09\n",
      "   --------------------------- ------------ 101.7/150.0 MB 6.1 MB/s eta 0:00:08\n",
      "   --------------------------- ------------ 103.0/150.0 MB 6.1 MB/s eta 0:00:08\n",
      "   --------------------------- ------------ 104.3/150.0 MB 6.1 MB/s eta 0:00:08\n",
      "   ---------------------------- ----------- 105.6/150.0 MB 6.1 MB/s eta 0:00:08\n",
      "   ---------------------------- ----------- 107.0/150.0 MB 6.1 MB/s eta 0:00:08\n",
      "   ---------------------------- ----------- 108.3/150.0 MB 6.1 MB/s eta 0:00:07\n",
      "   ----------------------------- ---------- 109.6/150.0 MB 6.1 MB/s eta 0:00:07\n",
      "   ----------------------------- ---------- 110.9/150.0 MB 6.1 MB/s eta 0:00:07\n",
      "   ----------------------------- ---------- 112.5/150.0 MB 6.1 MB/s eta 0:00:07\n",
      "   ------------------------------ --------- 113.8/150.0 MB 6.1 MB/s eta 0:00:06\n",
      "   ------------------------------ --------- 115.1/150.0 MB 6.1 MB/s eta 0:00:06\n",
      "   ------------------------------- -------- 116.4/150.0 MB 6.1 MB/s eta 0:00:06\n",
      "   ------------------------------- -------- 117.7/150.0 MB 6.1 MB/s eta 0:00:06\n",
      "   ------------------------------- -------- 119.0/150.0 MB 6.1 MB/s eta 0:00:06\n",
      "   ------------------------------- -------- 119.5/150.0 MB 6.1 MB/s eta 0:00:05\n",
      "   -------------------------------- ------- 121.1/150.0 MB 6.1 MB/s eta 0:00:05\n",
      "   -------------------------------- ------- 122.4/150.0 MB 6.1 MB/s eta 0:00:05\n",
      "   --------------------------------- ------ 123.7/150.0 MB 6.1 MB/s eta 0:00:05\n",
      "   --------------------------------- ------ 125.0/150.0 MB 6.1 MB/s eta 0:00:05\n",
      "   --------------------------------- ------ 126.4/150.0 MB 6.1 MB/s eta 0:00:04\n",
      "   ---------------------------------- ----- 127.7/150.0 MB 6.1 MB/s eta 0:00:04\n",
      "   ---------------------------------- ----- 129.0/150.0 MB 6.1 MB/s eta 0:00:04\n",
      "   ---------------------------------- ----- 130.3/150.0 MB 6.1 MB/s eta 0:00:04\n",
      "   ----------------------------------- ---- 131.6/150.0 MB 6.1 MB/s eta 0:00:04\n",
      "   ----------------------------------- ---- 132.9/150.0 MB 6.1 MB/s eta 0:00:03\n",
      "   ----------------------------------- ---- 134.2/150.0 MB 6.1 MB/s eta 0:00:03\n",
      "   ------------------------------------ --- 135.5/150.0 MB 6.1 MB/s eta 0:00:03\n",
      "   ------------------------------------ --- 136.8/150.0 MB 6.1 MB/s eta 0:00:03\n",
      "   ------------------------------------ --- 138.4/150.0 MB 6.1 MB/s eta 0:00:02\n",
      "   ------------------------------------- -- 139.7/150.0 MB 6.1 MB/s eta 0:00:02\n",
      "   ------------------------------------- -- 141.0/150.0 MB 6.1 MB/s eta 0:00:02\n",
      "   ------------------------------------- -- 142.3/150.0 MB 6.1 MB/s eta 0:00:02\n",
      "   -------------------------------------- - 143.7/150.0 MB 6.1 MB/s eta 0:00:02\n",
      "   -------------------------------------- - 145.0/150.0 MB 6.1 MB/s eta 0:00:01\n",
      "   ---------------------------------------  146.3/150.0 MB 6.1 MB/s eta 0:00:01\n",
      "   ---------------------------------------  147.3/150.0 MB 6.1 MB/s eta 0:00:01\n",
      "   ---------------------------------------  148.4/150.0 MB 6.1 MB/s eta 0:00:01\n",
      "   ---------------------------------------  149.7/150.0 MB 6.1 MB/s eta 0:00:01\n",
      "   ---------------------------------------  149.9/150.0 MB 6.1 MB/s eta 0:00:01\n",
      "   ---------------------------------------- 150.0/150.0 MB 6.0 MB/s eta 0:00:00\n",
      "Installing collected packages: xgboost\n",
      "Successfully installed xgboost-3.0.2\n",
      "Fitting 5 folds for each of 18 candidates, totalling 90 fits\n",
      "GBR Best Score: 0.9715489436207824\n",
      "GBR Best Params: {'learning_rate': 0.1, 'max_depth': 7, 'n_estimators': 200}\n",
      "GBR Best Score: 0.9715489436207824\n",
      "GBR Best Params: {'learning_rate': 0.1, 'max_depth': 7, 'n_estimators': 200}\n",
      "Fitting 5 folds for each of 18 candidates, totalling 90 fits\n",
      "Fitting 5 folds for each of 18 candidates, totalling 90 fits\n",
      "XGB Best Score: 0.9732737208540682\n",
      "XGB Best Params: {'learning_rate': 0.2, 'max_depth': 5, 'n_estimators': 200}\n",
      "XGB Best Score: 0.9732737208540682\n",
      "XGB Best Params: {'learning_rate': 0.2, 'max_depth': 5, 'n_estimators': 200}\n"
     ]
    }
   ],
   "source": [
    "!pip install xgboost\n",
    "# Try other models: GradientBoostingRegressor and XGBoost (if installed)\n",
    "from sklearn.ensemble import GradientBoostingRegressor\n",
    "from sklearn.model_selection import GridSearchCV\n",
    "\n",
    "# GradientBoostingRegressor tuning\n",
    "gb_param_grid = {\n",
    "    'n_estimators': [100, 200],\n",
    "    'max_depth': [3, 5, 7],\n",
    "    'learning_rate': [0.01, 0.1, 0.2]\n",
    "}\n",
    "gb_grid = GridSearchCV(\n",
    "    estimator=GradientBoostingRegressor(random_state=42),\n",
    "    param_grid=gb_param_grid,\n",
    "    cv=5,\n",
    "    n_jobs=-1,\n",
    "    scoring='r2',\n",
    "    verbose=2\n",
    ")\n",
    "gb_grid.fit(x_train_scaled, y_train)\n",
    "print('GBR Best Score:', gb_grid.best_score_)\n",
    "print('GBR Best Params:', gb_grid.best_params_)\n",
    "\n",
    "# Try XGBoost if available\n",
    "try:\n",
    "    from xgboost import XGBRegressor\n",
    "    xgb_param_grid = {\n",
    "        'n_estimators': [100, 200],\n",
    "        'max_depth': [3, 5, 7],\n",
    "        'learning_rate': [0.01, 0.1, 0.2]\n",
    "    }\n",
    "    xgb_grid = GridSearchCV(\n",
    "        estimator=XGBRegressor(random_state=42, verbosity=0),\n",
    "        param_grid=xgb_param_grid,\n",
    "        cv=5,\n",
    "        n_jobs=-1,\n",
    "        scoring='r2',\n",
    "        verbose=2\n",
    "    )\n",
    "    xgb_grid.fit(x_train_scaled, y_train)\n",
    "    print('XGB Best Score:', xgb_grid.best_score_)\n",
    "    print('XGB Best Params:', xgb_grid.best_params_)\n",
    "except ImportError:\n",
    "    print('XGBoost is not installed. To try it, run: !pip install xgboost')\n"
   ]
  },
  {
   "cell_type": "code",
   "execution_count": 16,
   "id": "67e97478",
   "metadata": {},
   "outputs": [
    {
     "name": "stdout",
     "output_type": "stream",
     "text": [
      "Best XGBoost model and parameters saved to Models/.\n"
     ]
    }
   ],
   "source": [
    "# Save the best XGBoost model and its parameters\n",
    "try:\n",
    "    best_xgb = xgb_grid.best_estimator_\n",
    "    import joblib, json, os\n",
    "    os.makedirs('Models', exist_ok=True)\n",
    "    joblib.dump(best_xgb, 'Models/xgb_model.pkl')\n",
    "    with open('Models/xgb_best_params.json', 'w') as f:\n",
    "        json.dump(xgb_grid.best_params_, f, indent=4)\n",
    "    print('Best XGBoost model and parameters saved to Models/.')\n",
    "except Exception as e:\n",
    "    print('Could not save XGBoost model:', e)\n"
   ]
  }
 ],
 "metadata": {
  "kernelspec": {
"display_name": "Python 3 (ipykernel)",

   "language": "python",
   "name": "python3"
  },
  "language_info": {
   "codemirror_mode": {
    "name": "ipython",
    "version": 3
   },
   "file_extension": ".py",
   "mimetype": "text/x-python",
   "name": "python",
   "nbconvert_exporter": "python",
   "pygments_lexer": "ipython3",
   "version": "3.12.4"
  }
 },
 "nbformat": 4,
 "nbformat_minor": 5
}
